{
  "nbformat": 4,
  "nbformat_minor": 0,
  "metadata": {
    "colab": {
      "provenance": []
    },
    "kernelspec": {
      "name": "python3",
      "display_name": "Python 3"
    },
    "language_info": {
      "name": "python"
    }
  },
  "cells": [
    {
      "cell_type": "markdown",
      "source": [
        "# **1. Import Library**"
      ],
      "metadata": {
        "id": "fKADPWcFKlj3"
      }
    },
    {
      "cell_type": "markdown",
      "source": [
        "Pada tahap ini, Anda perlu mengimpor beberapa pustaka (library) Python yang dibutuhkan untuk analisis data dan pembangunan model machine learning."
      ],
      "metadata": {
        "id": "LgA3ERnVn84N"
      }
    },
    {
      "cell_type": "code",
      "source": [
        "import pandas as pd\n",
        "import numpy as np\n",
        "import seaborn as sns\n",
        "import matplotlib.pyplot as plt\n",
        "from sklearn.model_selection import train_test_split\n",
        "from sklearn.preprocessing import LabelEncoder, StandardScaler, MinMaxScaler\n",
        "from sklearn.neighbors import KNeighborsClassifier\n",
        "from sklearn.tree import DecisionTreeClassifier\n",
        "from sklearn.ensemble import RandomForestClassifier\n",
        "from sklearn.svm import SVC\n",
        "from sklearn.naive_bayes import GaussianNB\n",
        "from sklearn.metrics import confusion_matrix, accuracy_score, precision_score, recall_score, f1_score\n",
        "from sklearn.model_selection import GridSearchCV"
      ],
      "metadata": {
        "id": "BlmvjLY9M4Yj"
      },
      "execution_count": 12,
      "outputs": []
    },
    {
      "cell_type": "markdown",
      "source": [
        "# **2. Memuat Dataset dari Hasil Clustering**"
      ],
      "metadata": {
        "id": "f3YIEnAFKrKL"
      }
    },
    {
      "cell_type": "markdown",
      "source": [
        "Memuat dataset hasil clustering dari file CSV ke dalam variabel DataFrame."
      ],
      "metadata": {
        "id": "Ey3ItwTen_7E"
      }
    },
    {
      "cell_type": "code",
      "source": [
        "df = pd.read_csv('https://raw.githubusercontent.com/Alfan345/proyek-modelling-kesejahteraan-pekerja/refs/heads/main/data_klasifikasi_kesejahteraan.csv')\n",
        "df.head()\n",
        "df"
      ],
      "metadata": {
        "id": "GHCGNTyrM5fS",
        "colab": {
          "base_uri": "https://localhost:8080/",
          "height": 423
        },
        "outputId": "98a1541e-97fa-4ef6-f9ea-e0b6690fd709"
      },
      "execution_count": 13,
      "outputs": [
        {
          "output_type": "execute_result",
          "data": {
            "text/plain": [
              "        upah        gk        ump      peng  avg_upah_per_bulan  tahun  \\\n",
              "0      11226  293697.0  1900000.0  395136.0             1975776   2015   \n",
              "1      11226  293697.0  1900000.0  260183.0             1975776   2015   \n",
              "2      11226  293697.0  1900000.0  655319.0             1975776   2015   \n",
              "3      11226  293697.0  1900000.0  466355.0             1975776   2015   \n",
              "4      11226  293697.0  1900000.0  529945.0             1975776   2015   \n",
              "...      ...       ...        ...       ...                 ...    ...   \n",
              "21114  17542  521494.0  2729463.0  662025.0             3087392   2022   \n",
              "21115  17542  513170.0  2729463.0  665756.0             3087392   2022   \n",
              "21116  17542  513170.0  2729463.0  662025.0             3087392   2022   \n",
              "21117  17542  505468.0  2729463.0  665756.0             3087392   2022   \n",
              "21118  17542  505468.0  2729463.0  662025.0             3087392   2022   \n",
              "\n",
              "        provinsi kategori_dbs  \n",
              "0           ACEH     Menengah  \n",
              "1           ACEH     Menengah  \n",
              "2           ACEH     Menengah  \n",
              "3           ACEH     Menengah  \n",
              "4           ACEH     Menengah  \n",
              "...          ...          ...  \n",
              "21114  INDONESIA       Tinggi  \n",
              "21115  INDONESIA       Tinggi  \n",
              "21116  INDONESIA       Tinggi  \n",
              "21117  INDONESIA       Tinggi  \n",
              "21118  INDONESIA       Tinggi  \n",
              "\n",
              "[21119 rows x 8 columns]"
            ],
            "text/html": [
              "\n",
              "  <div id=\"df-4a8a41bb-0be6-4d08-a044-02f3e73d3050\" class=\"colab-df-container\">\n",
              "    <div>\n",
              "<style scoped>\n",
              "    .dataframe tbody tr th:only-of-type {\n",
              "        vertical-align: middle;\n",
              "    }\n",
              "\n",
              "    .dataframe tbody tr th {\n",
              "        vertical-align: top;\n",
              "    }\n",
              "\n",
              "    .dataframe thead th {\n",
              "        text-align: right;\n",
              "    }\n",
              "</style>\n",
              "<table border=\"1\" class=\"dataframe\">\n",
              "  <thead>\n",
              "    <tr style=\"text-align: right;\">\n",
              "      <th></th>\n",
              "      <th>upah</th>\n",
              "      <th>gk</th>\n",
              "      <th>ump</th>\n",
              "      <th>peng</th>\n",
              "      <th>avg_upah_per_bulan</th>\n",
              "      <th>tahun</th>\n",
              "      <th>provinsi</th>\n",
              "      <th>kategori_dbs</th>\n",
              "    </tr>\n",
              "  </thead>\n",
              "  <tbody>\n",
              "    <tr>\n",
              "      <th>0</th>\n",
              "      <td>11226</td>\n",
              "      <td>293697.0</td>\n",
              "      <td>1900000.0</td>\n",
              "      <td>395136.0</td>\n",
              "      <td>1975776</td>\n",
              "      <td>2015</td>\n",
              "      <td>ACEH</td>\n",
              "      <td>Menengah</td>\n",
              "    </tr>\n",
              "    <tr>\n",
              "      <th>1</th>\n",
              "      <td>11226</td>\n",
              "      <td>293697.0</td>\n",
              "      <td>1900000.0</td>\n",
              "      <td>260183.0</td>\n",
              "      <td>1975776</td>\n",
              "      <td>2015</td>\n",
              "      <td>ACEH</td>\n",
              "      <td>Menengah</td>\n",
              "    </tr>\n",
              "    <tr>\n",
              "      <th>2</th>\n",
              "      <td>11226</td>\n",
              "      <td>293697.0</td>\n",
              "      <td>1900000.0</td>\n",
              "      <td>655319.0</td>\n",
              "      <td>1975776</td>\n",
              "      <td>2015</td>\n",
              "      <td>ACEH</td>\n",
              "      <td>Menengah</td>\n",
              "    </tr>\n",
              "    <tr>\n",
              "      <th>3</th>\n",
              "      <td>11226</td>\n",
              "      <td>293697.0</td>\n",
              "      <td>1900000.0</td>\n",
              "      <td>466355.0</td>\n",
              "      <td>1975776</td>\n",
              "      <td>2015</td>\n",
              "      <td>ACEH</td>\n",
              "      <td>Menengah</td>\n",
              "    </tr>\n",
              "    <tr>\n",
              "      <th>4</th>\n",
              "      <td>11226</td>\n",
              "      <td>293697.0</td>\n",
              "      <td>1900000.0</td>\n",
              "      <td>529945.0</td>\n",
              "      <td>1975776</td>\n",
              "      <td>2015</td>\n",
              "      <td>ACEH</td>\n",
              "      <td>Menengah</td>\n",
              "    </tr>\n",
              "    <tr>\n",
              "      <th>...</th>\n",
              "      <td>...</td>\n",
              "      <td>...</td>\n",
              "      <td>...</td>\n",
              "      <td>...</td>\n",
              "      <td>...</td>\n",
              "      <td>...</td>\n",
              "      <td>...</td>\n",
              "      <td>...</td>\n",
              "    </tr>\n",
              "    <tr>\n",
              "      <th>21114</th>\n",
              "      <td>17542</td>\n",
              "      <td>521494.0</td>\n",
              "      <td>2729463.0</td>\n",
              "      <td>662025.0</td>\n",
              "      <td>3087392</td>\n",
              "      <td>2022</td>\n",
              "      <td>INDONESIA</td>\n",
              "      <td>Tinggi</td>\n",
              "    </tr>\n",
              "    <tr>\n",
              "      <th>21115</th>\n",
              "      <td>17542</td>\n",
              "      <td>513170.0</td>\n",
              "      <td>2729463.0</td>\n",
              "      <td>665756.0</td>\n",
              "      <td>3087392</td>\n",
              "      <td>2022</td>\n",
              "      <td>INDONESIA</td>\n",
              "      <td>Tinggi</td>\n",
              "    </tr>\n",
              "    <tr>\n",
              "      <th>21116</th>\n",
              "      <td>17542</td>\n",
              "      <td>513170.0</td>\n",
              "      <td>2729463.0</td>\n",
              "      <td>662025.0</td>\n",
              "      <td>3087392</td>\n",
              "      <td>2022</td>\n",
              "      <td>INDONESIA</td>\n",
              "      <td>Tinggi</td>\n",
              "    </tr>\n",
              "    <tr>\n",
              "      <th>21117</th>\n",
              "      <td>17542</td>\n",
              "      <td>505468.0</td>\n",
              "      <td>2729463.0</td>\n",
              "      <td>665756.0</td>\n",
              "      <td>3087392</td>\n",
              "      <td>2022</td>\n",
              "      <td>INDONESIA</td>\n",
              "      <td>Tinggi</td>\n",
              "    </tr>\n",
              "    <tr>\n",
              "      <th>21118</th>\n",
              "      <td>17542</td>\n",
              "      <td>505468.0</td>\n",
              "      <td>2729463.0</td>\n",
              "      <td>662025.0</td>\n",
              "      <td>3087392</td>\n",
              "      <td>2022</td>\n",
              "      <td>INDONESIA</td>\n",
              "      <td>Tinggi</td>\n",
              "    </tr>\n",
              "  </tbody>\n",
              "</table>\n",
              "<p>21119 rows × 8 columns</p>\n",
              "</div>\n",
              "    <div class=\"colab-df-buttons\">\n",
              "\n",
              "  <div class=\"colab-df-container\">\n",
              "    <button class=\"colab-df-convert\" onclick=\"convertToInteractive('df-4a8a41bb-0be6-4d08-a044-02f3e73d3050')\"\n",
              "            title=\"Convert this dataframe to an interactive table.\"\n",
              "            style=\"display:none;\">\n",
              "\n",
              "  <svg xmlns=\"http://www.w3.org/2000/svg\" height=\"24px\" viewBox=\"0 -960 960 960\">\n",
              "    <path d=\"M120-120v-720h720v720H120Zm60-500h600v-160H180v160Zm220 220h160v-160H400v160Zm0 220h160v-160H400v160ZM180-400h160v-160H180v160Zm440 0h160v-160H620v160ZM180-180h160v-160H180v160Zm440 0h160v-160H620v160Z\"/>\n",
              "  </svg>\n",
              "    </button>\n",
              "\n",
              "  <style>\n",
              "    .colab-df-container {\n",
              "      display:flex;\n",
              "      gap: 12px;\n",
              "    }\n",
              "\n",
              "    .colab-df-convert {\n",
              "      background-color: #E8F0FE;\n",
              "      border: none;\n",
              "      border-radius: 50%;\n",
              "      cursor: pointer;\n",
              "      display: none;\n",
              "      fill: #1967D2;\n",
              "      height: 32px;\n",
              "      padding: 0 0 0 0;\n",
              "      width: 32px;\n",
              "    }\n",
              "\n",
              "    .colab-df-convert:hover {\n",
              "      background-color: #E2EBFA;\n",
              "      box-shadow: 0px 1px 2px rgba(60, 64, 67, 0.3), 0px 1px 3px 1px rgba(60, 64, 67, 0.15);\n",
              "      fill: #174EA6;\n",
              "    }\n",
              "\n",
              "    .colab-df-buttons div {\n",
              "      margin-bottom: 4px;\n",
              "    }\n",
              "\n",
              "    [theme=dark] .colab-df-convert {\n",
              "      background-color: #3B4455;\n",
              "      fill: #D2E3FC;\n",
              "    }\n",
              "\n",
              "    [theme=dark] .colab-df-convert:hover {\n",
              "      background-color: #434B5C;\n",
              "      box-shadow: 0px 1px 3px 1px rgba(0, 0, 0, 0.15);\n",
              "      filter: drop-shadow(0px 1px 2px rgba(0, 0, 0, 0.3));\n",
              "      fill: #FFFFFF;\n",
              "    }\n",
              "  </style>\n",
              "\n",
              "    <script>\n",
              "      const buttonEl =\n",
              "        document.querySelector('#df-4a8a41bb-0be6-4d08-a044-02f3e73d3050 button.colab-df-convert');\n",
              "      buttonEl.style.display =\n",
              "        google.colab.kernel.accessAllowed ? 'block' : 'none';\n",
              "\n",
              "      async function convertToInteractive(key) {\n",
              "        const element = document.querySelector('#df-4a8a41bb-0be6-4d08-a044-02f3e73d3050');\n",
              "        const dataTable =\n",
              "          await google.colab.kernel.invokeFunction('convertToInteractive',\n",
              "                                                    [key], {});\n",
              "        if (!dataTable) return;\n",
              "\n",
              "        const docLinkHtml = 'Like what you see? Visit the ' +\n",
              "          '<a target=\"_blank\" href=https://colab.research.google.com/notebooks/data_table.ipynb>data table notebook</a>'\n",
              "          + ' to learn more about interactive tables.';\n",
              "        element.innerHTML = '';\n",
              "        dataTable['output_type'] = 'display_data';\n",
              "        await google.colab.output.renderOutput(dataTable, element);\n",
              "        const docLink = document.createElement('div');\n",
              "        docLink.innerHTML = docLinkHtml;\n",
              "        element.appendChild(docLink);\n",
              "      }\n",
              "    </script>\n",
              "  </div>\n",
              "\n",
              "\n",
              "<div id=\"df-510119a8-0697-40d1-89b4-b5f04b1fe220\">\n",
              "  <button class=\"colab-df-quickchart\" onclick=\"quickchart('df-510119a8-0697-40d1-89b4-b5f04b1fe220')\"\n",
              "            title=\"Suggest charts\"\n",
              "            style=\"display:none;\">\n",
              "\n",
              "<svg xmlns=\"http://www.w3.org/2000/svg\" height=\"24px\"viewBox=\"0 0 24 24\"\n",
              "     width=\"24px\">\n",
              "    <g>\n",
              "        <path d=\"M19 3H5c-1.1 0-2 .9-2 2v14c0 1.1.9 2 2 2h14c1.1 0 2-.9 2-2V5c0-1.1-.9-2-2-2zM9 17H7v-7h2v7zm4 0h-2V7h2v10zm4 0h-2v-4h2v4z\"/>\n",
              "    </g>\n",
              "</svg>\n",
              "  </button>\n",
              "\n",
              "<style>\n",
              "  .colab-df-quickchart {\n",
              "      --bg-color: #E8F0FE;\n",
              "      --fill-color: #1967D2;\n",
              "      --hover-bg-color: #E2EBFA;\n",
              "      --hover-fill-color: #174EA6;\n",
              "      --disabled-fill-color: #AAA;\n",
              "      --disabled-bg-color: #DDD;\n",
              "  }\n",
              "\n",
              "  [theme=dark] .colab-df-quickchart {\n",
              "      --bg-color: #3B4455;\n",
              "      --fill-color: #D2E3FC;\n",
              "      --hover-bg-color: #434B5C;\n",
              "      --hover-fill-color: #FFFFFF;\n",
              "      --disabled-bg-color: #3B4455;\n",
              "      --disabled-fill-color: #666;\n",
              "  }\n",
              "\n",
              "  .colab-df-quickchart {\n",
              "    background-color: var(--bg-color);\n",
              "    border: none;\n",
              "    border-radius: 50%;\n",
              "    cursor: pointer;\n",
              "    display: none;\n",
              "    fill: var(--fill-color);\n",
              "    height: 32px;\n",
              "    padding: 0;\n",
              "    width: 32px;\n",
              "  }\n",
              "\n",
              "  .colab-df-quickchart:hover {\n",
              "    background-color: var(--hover-bg-color);\n",
              "    box-shadow: 0 1px 2px rgba(60, 64, 67, 0.3), 0 1px 3px 1px rgba(60, 64, 67, 0.15);\n",
              "    fill: var(--button-hover-fill-color);\n",
              "  }\n",
              "\n",
              "  .colab-df-quickchart-complete:disabled,\n",
              "  .colab-df-quickchart-complete:disabled:hover {\n",
              "    background-color: var(--disabled-bg-color);\n",
              "    fill: var(--disabled-fill-color);\n",
              "    box-shadow: none;\n",
              "  }\n",
              "\n",
              "  .colab-df-spinner {\n",
              "    border: 2px solid var(--fill-color);\n",
              "    border-color: transparent;\n",
              "    border-bottom-color: var(--fill-color);\n",
              "    animation:\n",
              "      spin 1s steps(1) infinite;\n",
              "  }\n",
              "\n",
              "  @keyframes spin {\n",
              "    0% {\n",
              "      border-color: transparent;\n",
              "      border-bottom-color: var(--fill-color);\n",
              "      border-left-color: var(--fill-color);\n",
              "    }\n",
              "    20% {\n",
              "      border-color: transparent;\n",
              "      border-left-color: var(--fill-color);\n",
              "      border-top-color: var(--fill-color);\n",
              "    }\n",
              "    30% {\n",
              "      border-color: transparent;\n",
              "      border-left-color: var(--fill-color);\n",
              "      border-top-color: var(--fill-color);\n",
              "      border-right-color: var(--fill-color);\n",
              "    }\n",
              "    40% {\n",
              "      border-color: transparent;\n",
              "      border-right-color: var(--fill-color);\n",
              "      border-top-color: var(--fill-color);\n",
              "    }\n",
              "    60% {\n",
              "      border-color: transparent;\n",
              "      border-right-color: var(--fill-color);\n",
              "    }\n",
              "    80% {\n",
              "      border-color: transparent;\n",
              "      border-right-color: var(--fill-color);\n",
              "      border-bottom-color: var(--fill-color);\n",
              "    }\n",
              "    90% {\n",
              "      border-color: transparent;\n",
              "      border-bottom-color: var(--fill-color);\n",
              "    }\n",
              "  }\n",
              "</style>\n",
              "\n",
              "  <script>\n",
              "    async function quickchart(key) {\n",
              "      const quickchartButtonEl =\n",
              "        document.querySelector('#' + key + ' button');\n",
              "      quickchartButtonEl.disabled = true;  // To prevent multiple clicks.\n",
              "      quickchartButtonEl.classList.add('colab-df-spinner');\n",
              "      try {\n",
              "        const charts = await google.colab.kernel.invokeFunction(\n",
              "            'suggestCharts', [key], {});\n",
              "      } catch (error) {\n",
              "        console.error('Error during call to suggestCharts:', error);\n",
              "      }\n",
              "      quickchartButtonEl.classList.remove('colab-df-spinner');\n",
              "      quickchartButtonEl.classList.add('colab-df-quickchart-complete');\n",
              "    }\n",
              "    (() => {\n",
              "      let quickchartButtonEl =\n",
              "        document.querySelector('#df-510119a8-0697-40d1-89b4-b5f04b1fe220 button');\n",
              "      quickchartButtonEl.style.display =\n",
              "        google.colab.kernel.accessAllowed ? 'block' : 'none';\n",
              "    })();\n",
              "  </script>\n",
              "</div>\n",
              "\n",
              "  <div id=\"id_fbcd26f5-f2a7-4a22-9af3-c5fed904961a\">\n",
              "    <style>\n",
              "      .colab-df-generate {\n",
              "        background-color: #E8F0FE;\n",
              "        border: none;\n",
              "        border-radius: 50%;\n",
              "        cursor: pointer;\n",
              "        display: none;\n",
              "        fill: #1967D2;\n",
              "        height: 32px;\n",
              "        padding: 0 0 0 0;\n",
              "        width: 32px;\n",
              "      }\n",
              "\n",
              "      .colab-df-generate:hover {\n",
              "        background-color: #E2EBFA;\n",
              "        box-shadow: 0px 1px 2px rgba(60, 64, 67, 0.3), 0px 1px 3px 1px rgba(60, 64, 67, 0.15);\n",
              "        fill: #174EA6;\n",
              "      }\n",
              "\n",
              "      [theme=dark] .colab-df-generate {\n",
              "        background-color: #3B4455;\n",
              "        fill: #D2E3FC;\n",
              "      }\n",
              "\n",
              "      [theme=dark] .colab-df-generate:hover {\n",
              "        background-color: #434B5C;\n",
              "        box-shadow: 0px 1px 3px 1px rgba(0, 0, 0, 0.15);\n",
              "        filter: drop-shadow(0px 1px 2px rgba(0, 0, 0, 0.3));\n",
              "        fill: #FFFFFF;\n",
              "      }\n",
              "    </style>\n",
              "    <button class=\"colab-df-generate\" onclick=\"generateWithVariable('df')\"\n",
              "            title=\"Generate code using this dataframe.\"\n",
              "            style=\"display:none;\">\n",
              "\n",
              "  <svg xmlns=\"http://www.w3.org/2000/svg\" height=\"24px\"viewBox=\"0 0 24 24\"\n",
              "       width=\"24px\">\n",
              "    <path d=\"M7,19H8.4L18.45,9,17,7.55,7,17.6ZM5,21V16.75L18.45,3.32a2,2,0,0,1,2.83,0l1.4,1.43a1.91,1.91,0,0,1,.58,1.4,1.91,1.91,0,0,1-.58,1.4L9.25,21ZM18.45,9,17,7.55Zm-12,3A5.31,5.31,0,0,0,4.9,8.1,5.31,5.31,0,0,0,1,6.5,5.31,5.31,0,0,0,4.9,4.9,5.31,5.31,0,0,0,6.5,1,5.31,5.31,0,0,0,8.1,4.9,5.31,5.31,0,0,0,12,6.5,5.46,5.46,0,0,0,6.5,12Z\"/>\n",
              "  </svg>\n",
              "    </button>\n",
              "    <script>\n",
              "      (() => {\n",
              "      const buttonEl =\n",
              "        document.querySelector('#id_fbcd26f5-f2a7-4a22-9af3-c5fed904961a button.colab-df-generate');\n",
              "      buttonEl.style.display =\n",
              "        google.colab.kernel.accessAllowed ? 'block' : 'none';\n",
              "\n",
              "      buttonEl.onclick = () => {\n",
              "        google.colab.notebook.generateWithVariable('df');\n",
              "      }\n",
              "      })();\n",
              "    </script>\n",
              "  </div>\n",
              "\n",
              "    </div>\n",
              "  </div>\n"
            ],
            "application/vnd.google.colaboratory.intrinsic+json": {
              "type": "dataframe",
              "variable_name": "df",
              "summary": "{\n  \"name\": \"df\",\n  \"rows\": 21119,\n  \"fields\": [\n    {\n      \"column\": \"upah\",\n      \"properties\": {\n        \"dtype\": \"number\",\n        \"std\": 3521,\n        \"min\": 8525,\n        \"max\": 26198,\n        \"num_unique_values\": 246,\n        \"samples\": [\n          14326,\n          17037,\n          15890\n        ],\n        \"semantic_type\": \"\",\n        \"description\": \"\"\n      }\n    },\n    {\n      \"column\": \"gk\",\n      \"properties\": {\n        \"dtype\": \"number\",\n        \"std\": 130033.3984331879,\n        \"min\": 49612.0,\n        \"max\": 736850.0,\n        \"num_unique_values\": 3285,\n        \"samples\": [\n          301032.0,\n          251463.0,\n          278911.0\n        ],\n        \"semantic_type\": \"\",\n        \"description\": \"\"\n      }\n    },\n    {\n      \"column\": \"ump\",\n      \"properties\": {\n        \"dtype\": \"number\",\n        \"std\": 564843.7394787886,\n        \"min\": 910000.0,\n        \"max\": 3940973.0,\n        \"num_unique_values\": 224,\n        \"samples\": [\n          2132189.0,\n          1337645.0,\n          1660000.0\n        ],\n        \"semantic_type\": \"\",\n        \"description\": \"\"\n      }\n    },\n    {\n      \"column\": \"peng\",\n      \"properties\": {\n        \"dtype\": \"number\",\n        \"std\": 251223.9426319839,\n        \"min\": 218261.0,\n        \"max\": 1350524.0,\n        \"num_unique_values\": 1821,\n        \"samples\": [\n          321635.0,\n          592689.0,\n          544680.0\n        ],\n        \"semantic_type\": \"\",\n        \"description\": \"\"\n      }\n    },\n    {\n      \"column\": \"avg_upah_per_bulan\",\n      \"properties\": {\n        \"dtype\": \"number\",\n        \"std\": 619848,\n        \"min\": 1500400,\n        \"max\": 4610848,\n        \"num_unique_values\": 246,\n        \"samples\": [\n          2521376,\n          2998512,\n          2796640\n        ],\n        \"semantic_type\": \"\",\n        \"description\": \"\"\n      }\n    },\n    {\n      \"column\": \"tahun\",\n      \"properties\": {\n        \"dtype\": \"number\",\n        \"std\": 2,\n        \"min\": 2015,\n        \"max\": 2022,\n        \"num_unique_values\": 8,\n        \"samples\": [\n          2016,\n          2020,\n          2015\n        ],\n        \"semantic_type\": \"\",\n        \"description\": \"\"\n      }\n    },\n    {\n      \"column\": \"provinsi\",\n      \"properties\": {\n        \"dtype\": \"category\",\n        \"num_unique_values\": 35,\n        \"samples\": [\n          \"SULAWESI SELATAN\",\n          \"DI YOGYAKARTA\",\n          \"SULAWESI UTARA\"\n        ],\n        \"semantic_type\": \"\",\n        \"description\": \"\"\n      }\n    },\n    {\n      \"column\": \"kategori_dbs\",\n      \"properties\": {\n        \"dtype\": \"category\",\n        \"num_unique_values\": 3,\n        \"samples\": [\n          \"Menengah\",\n          \"Rendah\",\n          \"Tinggi\"\n        ],\n        \"semantic_type\": \"\",\n        \"description\": \"\"\n      }\n    }\n  ]\n}"
            }
          },
          "metadata": {},
          "execution_count": 13
        }
      ]
    },
    {
      "cell_type": "code",
      "source": [
        "le = LabelEncoder()\n",
        "\n",
        "# Pastikan encoding diterapkan dengan benar\n",
        "df[\"provinsi\"] = le.fit_transform(df[\"provinsi\"])\n",
        "df[\"kategori_dbs\"] = le.fit_transform(df[\"kategori_dbs\"])\n",
        "\n",
        "print(df.dtypes)  # Pastikan tidak ada yang object\n",
        "print(df.head())  # Lihat apakah \"provinsi\" sudah berupa angka"
      ],
      "metadata": {
        "colab": {
          "base_uri": "https://localhost:8080/"
        },
        "id": "ZKKGuc7oDdnn",
        "outputId": "ac1ebde7-8502-4b1f-8b48-54c8647df6ae"
      },
      "execution_count": 14,
      "outputs": [
        {
          "output_type": "stream",
          "name": "stdout",
          "text": [
            "upah                    int64\n",
            "gk                    float64\n",
            "ump                   float64\n",
            "peng                  float64\n",
            "avg_upah_per_bulan      int64\n",
            "tahun                   int64\n",
            "provinsi                int64\n",
            "kategori_dbs            int64\n",
            "dtype: object\n",
            "    upah        gk        ump      peng  avg_upah_per_bulan  tahun  provinsi  \\\n",
            "0  11226  293697.0  1900000.0  395136.0             1975776   2015         0   \n",
            "1  11226  293697.0  1900000.0  260183.0             1975776   2015         0   \n",
            "2  11226  293697.0  1900000.0  655319.0             1975776   2015         0   \n",
            "3  11226  293697.0  1900000.0  466355.0             1975776   2015         0   \n",
            "4  11226  293697.0  1900000.0  529945.0             1975776   2015         0   \n",
            "\n",
            "   kategori_dbs  \n",
            "0             0  \n",
            "1             0  \n",
            "2             0  \n",
            "3             0  \n",
            "4             0  \n"
          ]
        }
      ]
    },
    {
      "cell_type": "code",
      "source": [
        "print(df.dtypes)\n"
      ],
      "metadata": {
        "colab": {
          "base_uri": "https://localhost:8080/"
        },
        "id": "LczMZrrvGDk_",
        "outputId": "5d59de24-f77d-4e1f-ef54-55446fb34ede"
      },
      "execution_count": 15,
      "outputs": [
        {
          "output_type": "stream",
          "name": "stdout",
          "text": [
            "upah                    int64\n",
            "gk                    float64\n",
            "ump                   float64\n",
            "peng                  float64\n",
            "avg_upah_per_bulan      int64\n",
            "tahun                   int64\n",
            "provinsi                int64\n",
            "kategori_dbs            int64\n",
            "dtype: object\n"
          ]
        }
      ]
    },
    {
      "cell_type": "code",
      "source": [
        "df[\"provinsi\"] = df[\"provinsi\"].astype(int)  # atau astype(float) jika perlu\n",
        "df[\"kategori_dbs\"] = df[\"kategori_dbs\"].astype(int)\n"
      ],
      "metadata": {
        "id": "ndBcSGuRGJTm"
      },
      "execution_count": 16,
      "outputs": []
    },
    {
      "cell_type": "code",
      "source": [
        "print(df[\"provinsi\"].dtype)  # Harusnya int, bukan object (string)\n",
        "print(df[\"provinsi\"].unique())  # Lihat apakah sudah berubah jadi angka\n"
      ],
      "metadata": {
        "colab": {
          "base_uri": "https://localhost:8080/"
        },
        "id": "azUM8RKwFyrA",
        "outputId": "c08465b2-5e78-4518-a281-c2db4331d1d4"
      },
      "execution_count": 17,
      "outputs": [
        {
          "output_type": "stream",
          "name": "stdout",
          "text": [
            "int64\n",
            "[ 0 34 32 26  8 33  3 19 17 18  5  9 10  4 11  2  1 22 23 12 14 13 15 16\n",
            " 31 29 28 30  6 27 20 21 25 24  7]\n"
          ]
        }
      ]
    },
    {
      "cell_type": "markdown",
      "source": [
        "# **3. Data Splitting**"
      ],
      "metadata": {
        "id": "KkPem5eWL2UP"
      }
    },
    {
      "cell_type": "markdown",
      "source": [
        "Tahap Data Splitting bertujuan untuk memisahkan dataset menjadi dua bagian: data latih (training set) dan data uji (test set)."
      ],
      "metadata": {
        "id": "YYj1rl_JNI9Y"
      }
    },
    {
      "cell_type": "code",
      "source": [
        "# Tentukan kolom fitur dan target\n",
        "fitur = ['upah', 'gk', 'ump', 'peng', 'avg_upah_per_bulan', 'tahun', 'provinsi']\n",
        "target = 'kategori_dbs'\n",
        "\n",
        "X = df[fitur]\n",
        "y = df[target]\n",
        "\n",
        "# Pisahkan data training dan testing\n",
        "X_train, X_test, y_train, y_test = train_test_split(\n",
        "    X, y, test_size=0.2, stratify=y, random_state=42\n",
        ")"
      ],
      "metadata": {
        "id": "OubAW-7ONKVj"
      },
      "execution_count": 18,
      "outputs": []
    },
    {
      "cell_type": "markdown",
      "source": [
        "# **4. Membangun Model Klasifikasi**\n"
      ],
      "metadata": {
        "id": "IVPbB03CMhTT"
      }
    },
    {
      "cell_type": "markdown",
      "source": [
        "## **a. Membangun Model Klasifikasi**"
      ],
      "metadata": {
        "id": "Ned1pL9zMmBK"
      }
    },
    {
      "cell_type": "markdown",
      "source": [
        "Setelah memilih algoritma klasifikasi yang sesuai, langkah selanjutnya adalah melatih model menggunakan data latih.\n",
        "\n",
        "Berikut adalah rekomendasi tahapannya.\n",
        "1. Pilih algoritma klasifikasi yang sesuai, seperti Logistic Regression, Decision Tree, Random Forest, atau K-Nearest Neighbors (KNN).\n",
        "2. Latih model menggunakan data latih."
      ],
      "metadata": {
        "id": "WAWzPOE4Nkti"
      }
    },
    {
      "cell_type": "code",
      "source": [
        "knn = KNeighborsClassifier().fit(X_train, y_train)\n",
        "dt = DecisionTreeClassifier().fit(X_train, y_train)\n",
        "rf = RandomForestClassifier().fit(X_train, y_train)\n",
        "svm = SVC().fit(X_train, y_train)\n",
        "nb = GaussianNB().fit(X_train, y_train)\n",
        "\n",
        "print(\"Model training selesai.\")"
      ],
      "metadata": {
        "id": "4JYxBe87NLDk",
        "colab": {
          "base_uri": "https://localhost:8080/"
        },
        "outputId": "450dfaeb-e866-468e-d8c5-2903a4087a94"
      },
      "execution_count": 19,
      "outputs": [
        {
          "output_type": "stream",
          "name": "stdout",
          "text": [
            "Model training selesai.\n"
          ]
        }
      ]
    },
    {
      "cell_type": "markdown",
      "source": [
        "Tulis narasi atau penjelasan algoritma yang Anda gunakan."
      ],
      "metadata": {
        "id": "seYoHNY3XU1y"
      }
    },
    {
      "cell_type": "markdown",
      "source": [
        "## **b. Evaluasi Model Klasifikasi**"
      ],
      "metadata": {
        "id": "ergzChZFEL-O"
      }
    },
    {
      "cell_type": "markdown",
      "source": [
        "Berikut adalah **rekomendasi** tahapannya.\n",
        "1. Lakukan prediksi menggunakan data uji.\n",
        "2. Hitung metrik evaluasi seperti Accuracy dan F1-Score (Opsional: Precision dan Recall).\n",
        "3. Buat confusion matrix untuk melihat detail prediksi benar dan salah."
      ],
      "metadata": {
        "id": "zOm68u-7NpLT"
      }
    },
    {
      "cell_type": "code",
      "source": [
        "from sklearn.metrics import confusion_matrix, accuracy_score, precision_score, recall_score, f1_score\n",
        "\n",
        "def evaluate_model(model, X_test, y_test):\n",
        "    y_pred = model.predict(X_test)\n",
        "    cm = confusion_matrix(y_test, y_pred)\n",
        "\n",
        "    results = {\n",
        "        'Confusion Matrix': cm,\n",
        "        'Accuracy': accuracy_score(y_test, y_pred),\n",
        "        'Precision': precision_score(y_test, y_pred, average='macro'),  # Macro untuk multi-kelas\n",
        "        'Recall': recall_score(y_test, y_pred, average='macro'),\n",
        "        'F1-Score': f1_score(y_test, y_pred, average='macro')\n",
        "    }\n",
        "    return results\n",
        "\n",
        "# Mengevaluasi setiap model\n",
        "results = {\n",
        "    'K-Nearest Neighbors (KNN)': evaluate_model(knn, X_test, y_test),\n",
        "    'Decision Tree (DT)': evaluate_model(dt, X_test, y_test),\n",
        "    'Random Forest (RF)': evaluate_model(rf, X_test, y_test),\n",
        "    'Support Vector Machine (SVM)': evaluate_model(svm, X_test, y_test),\n",
        "    'Naive Bayes (NB)': evaluate_model(nb, X_test, y_test)\n",
        "}\n",
        "\n",
        "# Buat DataFrame untuk meringkas hasil\n",
        "summary_df = pd.DataFrame(columns=['Model', 'Accuracy', 'Precision', 'Recall', 'F1-Score'])\n",
        "\n",
        "# Isi DataFrame dengan hasil\n",
        "rows = []\n",
        "for model_name, metrics in results.items():\n",
        "    rows.append({\n",
        "        'Model': model_name,\n",
        "        'Accuracy': metrics['Accuracy'],\n",
        "        'Precision': metrics['Precision'],\n",
        "        'Recall': metrics['Recall'],\n",
        "        'F1-Score': metrics['F1-Score']\n",
        "    })\n",
        "\n",
        "# Konversi ke DataFrame\n",
        "summary_df = pd.DataFrame(rows)\n",
        "\n",
        "# Tampilkan DataFrame\n",
        "print(summary_df)\n"
      ],
      "metadata": {
        "id": "tMq4QAssNLip",
        "colab": {
          "base_uri": "https://localhost:8080/"
        },
        "outputId": "966ebb21-0e63-4895-cf0c-cd5813770d24"
      },
      "execution_count": 20,
      "outputs": [
        {
          "output_type": "stream",
          "name": "stdout",
          "text": [
            "                          Model  Accuracy  Precision    Recall  F1-Score\n",
            "0     K-Nearest Neighbors (KNN)  0.997869   0.995023  0.999002  0.997001\n",
            "1            Decision Tree (DT)  0.998343   0.998406  0.997008  0.997705\n",
            "2            Random Forest (RF)  0.998816   0.998162  0.998627  0.998394\n",
            "3  Support Vector Machine (SVM)  0.888258   0.860863  0.818312  0.837574\n",
            "4              Naive Bayes (NB)  0.813920   0.729792  0.795690  0.755756\n"
          ]
        }
      ]
    },
    {
      "cell_type": "markdown",
      "source": [
        "Model terbaik: Random Forest (99.88% accuracy) memiliki performa paling unggul, diikuti oleh Decision Tree (99.83%) dan KNN (99.79%)."
      ],
      "metadata": {
        "id": "H4_9OwrsXZlz"
      }
    },
    {
      "cell_type": "code",
      "source": [
        "y_pred_rf = rf.predict(X_test)\n",
        "\n",
        "# Confusion Matrix\n",
        "cm_rf = confusion_matrix(y_test, y_pred_rf)\n",
        "\n",
        "# Plot Confusion Matrix\n",
        "plt.figure(figsize=(6, 5))\n",
        "sns.heatmap(cm_rf, annot=True, fmt=\"d\", cmap=\"Blues\", xticklabels=rf.classes_, yticklabels=rf.classes_)\n",
        "plt.xlabel(\"Predicted Label\")\n",
        "plt.ylabel(\"True Label\")\n",
        "plt.title(\"Confusion Matrix - Random Forest\")\n",
        "plt.show()"
      ],
      "metadata": {
        "colab": {
          "base_uri": "https://localhost:8080/",
          "height": 487
        },
        "id": "MUieba0VH9Mo",
        "outputId": "9d3008f6-1fe2-4bfa-edb9-318d221e6972"
      },
      "execution_count": 21,
      "outputs": [
        {
          "output_type": "display_data",
          "data": {
            "text/plain": [
              "<Figure size 600x500 with 2 Axes>"
            ],
            "image/png": "[encoded data removed]"
          },
          "metadata": {}
        }
      ]
    },
    {
      "cell_type": "markdown",
      "source": [
        "## **c. Tuning Model Klasifikasi (Optional)**"
      ],
      "metadata": {
        "id": "ph9yIYDXEPuB"
      }
    },
    {
      "cell_type": "markdown",
      "source": [
        "Gunakan GridSearchCV, RandomizedSearchCV, atau metode lainnya untuk mencari kombinasi hyperparameter terbaik"
      ],
      "metadata": {
        "id": "-Bikx3LINv5e"
      }
    },
    {
      "cell_type": "code",
      "source": [
        "\n",
        "\n",
        "# Definisikan parameter yang ingin diuji\n",
        "param_grid = {\n",
        "    'n_estimators': [50, 100, 200],\n",
        "    'max_depth': [10, 20, None],\n",
        "    'min_samples_split': [2, 5, 10],\n",
        "    'min_samples_leaf': [1, 2, 4]\n",
        "}\n",
        "\n",
        "# Inisialisasi model Random Forest\n",
        "rf_tuned = RandomForestClassifier(random_state=42)\n",
        "\n",
        "# Grid Search dengan Cross Validation (cv=5)\n",
        "grid_search = GridSearchCV(rf_tuned, param_grid, cv=5, scoring='accuracy', n_jobs=-1, verbose=2)\n",
        "grid_search.fit(X_train, y_train)\n",
        "\n",
        "# Tampilkan parameter terbaik\n",
        "print(\"Best Parameters:\", grid_search.best_params_)\n"
      ],
      "metadata": {
        "id": "winbFzb8NL95",
        "colab": {
          "base_uri": "https://localhost:8080/"
        },
        "outputId": "228c71d8-588c-4211-88e1-7617dc29f3e4"
      },
      "execution_count": 22,
      "outputs": [
        {
          "output_type": "stream",
          "name": "stdout",
          "text": [
            "Fitting 5 folds for each of 81 candidates, totalling 405 fits\n",
            "Best Parameters: {'max_depth': 20, 'min_samples_leaf': 1, 'min_samples_split': 2, 'n_estimators': 200}\n"
          ]
        }
      ]
    },
    {
      "cell_type": "markdown",
      "source": [
        "## **d. Evaluasi Model Klasifikasi setelah Tuning (Optional)**"
      ],
      "metadata": {
        "id": "hE7pqlEPEYzI"
      }
    },
    {
      "cell_type": "markdown",
      "source": [
        "Berikut adalah rekomendasi tahapannya.\n",
        "1. Gunakan model dengan hyperparameter terbaik.\n",
        "2. Hitung ulang metrik evaluasi untuk melihat apakah ada peningkatan performa."
      ],
      "metadata": {
        "id": "feaPESoeN0zz"
      }
    },
    {
      "cell_type": "code",
      "source": [
        "# Model Random Forest dengan parameter terbaik\n",
        "rf_best = RandomForestClassifier(**grid_search.best_params_, random_state=42)\n",
        "rf_best.fit(X_train, y_train)\n",
        "\n",
        "# Evaluasi model sebelum tuning\n",
        "rf_results_before = evaluate_model(rf, X_test, y_test)\n",
        "\n",
        "# Evaluasi model setelah tuning\n",
        "rf_results_after = evaluate_model(rf_best, X_test, y_test)\n",
        "\n",
        "# Bandingkan hasil sebelum dan sesudah tuning\n",
        "comparison_df = pd.DataFrame({\n",
        "    \"Metric\": [\"Accuracy\", \"Precision\", \"Recall\", \"F1-Score\"],\n",
        "    \"Before Tuning\": [\n",
        "        rf_results_before[\"Accuracy\"],\n",
        "        rf_results_before[\"Precision\"],\n",
        "        rf_results_before[\"Recall\"],\n",
        "        rf_results_before[\"F1-Score\"]\n",
        "    ],\n",
        "    \"After Tuning\": [\n",
        "        rf_results_after[\"Accuracy\"],\n",
        "        rf_results_after[\"Precision\"],\n",
        "        rf_results_after[\"Recall\"],\n",
        "        rf_results_after[\"F1-Score\"]\n",
        "    ]\n",
        "})\n",
        "\n",
        "# Tampilkan hasil perbandingan\n",
        "print(comparison_df)\n"
      ],
      "metadata": {
        "id": "HTXZRvEeNMb1",
        "colab": {
          "base_uri": "https://localhost:8080/"
        },
        "outputId": "38c7631e-aaa5-44f3-c14e-d0084f9baf18"
      },
      "execution_count": 23,
      "outputs": [
        {
          "output_type": "stream",
          "name": "stdout",
          "text": [
            "      Metric  Before Tuning  After Tuning\n",
            "0   Accuracy       0.998816      0.998816\n",
            "1  Precision       0.998162      0.998570\n",
            "2     Recall       0.998627      0.998218\n",
            "3   F1-Score       0.998394      0.998393\n"
          ]
        }
      ]
    },
    {
      "cell_type": "markdown",
      "source": [
        "## **e. Analisis Hasil Evaluasi Model Klasifikasi**"
      ],
      "metadata": {
        "id": "ZRsOdm4uEgAW"
      }
    },
    {
      "cell_type": "markdown",
      "source": [
        "Berikut adalah **rekomendasi** tahapannya.\n",
        "1. Hyperparameter tuning tidak memberikan peningkatan signifikan karena model sudah sangat optimal sebelum tuning. Precision meningkat, tetapi Recall sedikit turun, menunjukkan bahwa model yang dituning sedikit lebih selektif.\n",
        "2. Identifikasi kelemahan model, seperti:\n",
        "  - Meskipun secara keseluruhan Precision meningkat, Recall sedikit menurun setelah tuning.\n",
        "  - Hal ini menunjukkan bahwa model yang dituning mungkin lebih selektif dalam menentukan suatu kelas, sehingga bisa terjadi sedikit peningkatan False Negatives.\n",
        "  - Kemungkinan overfitting cukup tinggi karena performa yang sangat baik di data uji. Jika model diuji pada data baru yang berbeda distribusinya, mungkin akurasinya bisa turun.\n",
        "3. rekomendasi tindakan lanjutan :\n",
        "  - perlu diuji dengan validasi silang atau data tambahan untuk memastikan tidak terjadinya overfitting.\n",
        "  - perlu dilakukan analisis lebih lanjut menggunakan confusion matrix per kelas untuk mengetahui kelas mana yang bermasalah, yang mengakibatkan turun nya recall\n",
        "\n"
      ],
      "metadata": {
        "id": "Hm3BhSi6N4_l"
      }
    }
  ]
}